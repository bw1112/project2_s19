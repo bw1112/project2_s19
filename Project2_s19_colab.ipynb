{
  "nbformat": 4,
  "nbformat_minor": 0,
  "metadata": {
    "colab": {
      "name": "Project2_s19_colab",
      "version": "0.3.2",
      "provenance": [],
      "collapsed_sections": [],
      "toc_visible": true
    },
    "kernelspec": {
      "display_name": "Python 3",
      "name": "python3"
    }
  },
  "cells": [
    {
      "metadata": {
        "id": "Y75mPdpqeQPU",
        "colab_type": "text"
      },
      "cell_type": "markdown",
      "source": [
        "# Project 2: Graph Analysis\n",
        "* Released: 04/16\n",
        "* Due: 05/02 10AM\n",
        "* Value: 5% of your grade\n",
        "* Max team of 2"
      ]
    },
    {
      "metadata": {
        "id": "VmYpKfmpeOD7",
        "colab_type": "text"
      },
      "cell_type": "markdown",
      "source": [
        "Many graph analysis compute network centrality, density, shortest paths, and other path-based statistics about a graph.  It may seem that writing a one-off Python script is a good way to perform this analysis, but it turns out that SQL is pretty great at doing this type of analysis!  \n",
        "\n",
        "## Background of the Data\n",
        "For this assignment, you will do a graph analysis to analyze Tweets from [**Twitter Elections Integrity Dataset**](https://about.twitter.com/en_us/values/elections-integrity.html#data).\n",
        "\n",
        "- Justice Department charged 13 Russian nationals with interfering in American electoral and political processes. The defendants worked for a well-funded “troll factory” called the Internet Research Agency(**IRA**).\n",
        "- IRA ran a campaign to sow disinformation and discord into American politics via social media (mostly twitter).\n",
        "- Dataset includes information from 3613 accounts believed to be connected to the Russian Internet Research Agency."
      ]
    },
    {
      "metadata": {
        "id": "ZcUs4rQkeqEd",
        "colab_type": "text"
      },
      "cell_type": "markdown",
      "source": [
        "#### The Twitter IRA dataset\n",
        "\n",
        "In reality, the twitter dataset isn't as neat as the above example.  Instead it contains the following attributes.\n",
        "\n",
        "```\n",
        "tweetid                   # tweet id\n",
        "userid                    # user id (hashed for users which had fewer than 5,000 followers) \n",
        "user_display_name         # name of user (same as userid for anonymized users)\n",
        "user_screen_name          # the Twitter handle of the user\n",
        "user_reported_location    # self-reported location\n",
        "……\n",
        "```\n",
        "\n",
        "Please check [Twitter Elections Integrity Datasets Readme](https://storage.googleapis.com/twitter-election-integrity/hashed/Twitter_Elections_Integrity_Datasets_hashed_README.txt) for full description\n"
      ]
    },
    {
      "metadata": {
        "colab_type": "text",
        "id": "OHCBQv4uTCPc"
      },
      "cell_type": "markdown",
      "source": [
        "### Important BigQuery Reference\n",
        "\n",
        "[**BigQuery Standard SQL Functions & Operators API Reference**](https://cloud.google.com/bigquery/docs/reference/standard-sql/functions-and-operators)"
      ]
    },
    {
      "metadata": {
        "id": "SWDImW3Tekkl",
        "colab_type": "text"
      },
      "cell_type": "markdown",
      "source": [
        "## Refresher\n",
        "\n",
        "You will write queries or short Python programs to answer the following questions about the dataset.  \n",
        "\n",
        "In the simple case, graphs have the following schema:\n",
        "\n",
        "        nodes(id int primary key, <attributes>)\n",
        "        edges(\n",
        "          src int NOT NULL references nodes(id),\n",
        "          dst int NOT NULL references nodes(id),\n",
        "          <attributes\n",
        "        )\n",
        "\n",
        "Recall that in graph analysis, you are interested in finding neighbors of nodes or paths between nodes.    Following an edge in the graph corresponds to a JOIN.  For example, the following finds all neighbors of node id 2:\n",
        "\n",
        "        SELECT dst FROM edges WHERE src = 2;\n",
        "\n",
        "Similarly, if we have a table `goodnodes` that contains IDs of nodes that we are interested in, the following query finds neighbors of these good nodes:\n",
        "\n",
        "        SELECT dst FROM edges, goodnodes WHERE edges.src = goodnodes.id;"
      ]
    },
    {
      "metadata": {
        "colab_type": "text",
        "id": "KcAZ2RHCg_Ze"
      },
      "cell_type": "markdown",
      "source": [
        "## **Before you begin**\n",
        "\n",
        "\n",
        "1.   Use the [Cloud Resource Manager](https://console.cloud.google.com/cloud-resource-manager) to Create a Cloud Platform project if you do not already have one.\n",
        "2.   [Enable billing](https://support.google.com/cloud/answer/6293499#enable-billing) for the project.\n",
        "3.   [Enable BigQuery](https://console.cloud.google.com/flows/enableapi?apiid=bigquery) APIs for the project.\n",
        "4. Follow [this instruction](https://github.com/w4111/project2_s19/blob/master/Project%20Setup%20Instructions.pdf) to create dataset which is used to store your temperary table\n"
      ]
    },
    {
      "metadata": {
        "id": "ZrX9qybbw4bQ",
        "colab_type": "text"
      },
      "cell_type": "markdown",
      "source": [
        "### Provide your and your teammate UNI"
      ]
    },
    {
      "metadata": {
        "id": "W1Np5iuqwlCG",
        "colab_type": "code",
        "outputId": "335e7a0c-62ee-41ce-df34-b043ec0b44d6",
        "colab": {
          "base_uri": "https://localhost:8080/",
          "height": 34
        }
      },
      "cell_type": "code",
      "source": [
        "# Your columbia uni that is used in SSOL\n",
        "My_UNI = \"cu1111\"\n",
        "My_Teammate_UNI = \"cu1111\"\n",
        "\n",
        "print(\"My UNI is {u1}, My teammate UNI is {u2}\".format(u1=My_UNI, u2 = My_Teammate_UNI))"
      ],
      "execution_count": 0,
      "outputs": [
        {
          "output_type": "stream",
          "text": [
            "My UNI is cu1111, My teammate UNI is cu1111\n"
          ],
          "name": "stdout"
        }
      ]
    },
    {
      "metadata": {
        "id": "nY0hDSxLgEon",
        "colab_type": "text"
      },
      "cell_type": "markdown",
      "source": [
        "### **Provide your credentials to the runtime**"
      ]
    },
    {
      "metadata": {
        "colab_type": "code",
        "id": "FFSD5VCneJA_",
        "outputId": "fecd9a54-2e59-4771-96e6-0e6ba6f45d17",
        "colab": {
          "base_uri": "https://localhost:8080/",
          "height": 166
        }
      },
      "cell_type": "code",
      "source": [
        "from google.colab import auth\n",
        "auth.authenticate_user()\n",
        "print('Authenticated')"
      ],
      "execution_count": 0,
      "outputs": [
        {
          "output_type": "stream",
          "text": [
            "Authenticated\n"
          ],
          "name": "stdout"
        }
      ]
    },
    {
      "metadata": {
        "id": "sMuBAAxjkhiW",
        "colab_type": "code",
        "colab": {}
      },
      "cell_type": "code",
      "source": [
        "import pandas as pd\n",
        "pd.set_option('display.max_colwidth', -1)"
      ],
      "execution_count": 0,
      "outputs": []
    },
    {
      "metadata": {
        "id": "1mRdGVDffrJT",
        "colab_type": "text"
      },
      "cell_type": "markdown",
      "source": [
        "### Test your settings and check the IRA dataset"
      ]
    },
    {
      "metadata": {
        "id": "W2pAN5OCyhnn",
        "colab_type": "text"
      },
      "cell_type": "markdown",
      "source": [
        "Please fill in Google Project ID below"
      ]
    },
    {
      "metadata": {
        "colab_type": "code",
        "id": "_VY3UfMDVdtr",
        "outputId": "91fdff61-cd21-4acb-cf37-aaf31dd437b9",
        "colab": {
          "base_uri": "https://localhost:8080/",
          "height": 358
        }
      },
      "cell_type": "code",
      "source": [
        "%%bigquery --project your_project_id\n",
        "SELECT *\n",
        "FROM `project2-236400.twitter.IRA` \n",
        "LIMIT 5"
      ],
      "execution_count": 0,
      "outputs": [
        {
          "output_type": "execute_result",
          "data": {
            "text/html": [
              "<div>\n",
              "<style scoped>\n",
              "    .dataframe tbody tr th:only-of-type {\n",
              "        vertical-align: middle;\n",
              "    }\n",
              "\n",
              "    .dataframe tbody tr th {\n",
              "        vertical-align: top;\n",
              "    }\n",
              "\n",
              "    .dataframe thead th {\n",
              "        text-align: right;\n",
              "    }\n",
              "</style>\n",
              "<table border=\"1\" class=\"dataframe\">\n",
              "  <thead>\n",
              "    <tr style=\"text-align: right;\">\n",
              "      <th></th>\n",
              "      <th>tweetid</th>\n",
              "      <th>userid</th>\n",
              "      <th>user_display_name</th>\n",
              "      <th>user_screen_name</th>\n",
              "      <th>user_reported_location</th>\n",
              "      <th>user_profile_description</th>\n",
              "      <th>user_profile_url</th>\n",
              "      <th>follower_count</th>\n",
              "      <th>following_count</th>\n",
              "      <th>account_creation_date</th>\n",
              "      <th>...</th>\n",
              "      <th>latitude</th>\n",
              "      <th>longitude</th>\n",
              "      <th>quote_count</th>\n",
              "      <th>reply_count</th>\n",
              "      <th>like_count</th>\n",
              "      <th>retweet_count</th>\n",
              "      <th>hashtags</th>\n",
              "      <th>urls</th>\n",
              "      <th>user_mentions</th>\n",
              "      <th>poll_choices</th>\n",
              "    </tr>\n",
              "  </thead>\n",
              "  <tbody>\n",
              "    <tr>\n",
              "      <th>0</th>\n",
              "      <td>721935043237584897</td>\n",
              "      <td>201334945</td>\n",
              "      <td>Андрей Манзолевский</td>\n",
              "      <td>Manzal_</td>\n",
              "      <td>Russia</td>\n",
              "      <td>Блогер, публицист, гражданин, начальник</td>\n",
              "      <td>http://t.co/lsUS2Frfjj</td>\n",
              "      <td>23245</td>\n",
              "      <td>3298</td>\n",
              "      <td>2010-10-11</td>\n",
              "      <td>...</td>\n",
              "      <td></td>\n",
              "      <td></td>\n",
              "      <td>0</td>\n",
              "      <td>0</td>\n",
              "      <td>3</td>\n",
              "      <td>27</td>\n",
              "      <td>[]</td>\n",
              "      <td>[]</td>\n",
              "      <td></td>\n",
              "      <td></td>\n",
              "    </tr>\n",
              "    <tr>\n",
              "      <th>1</th>\n",
              "      <td>759003437597990912</td>\n",
              "      <td>201334945</td>\n",
              "      <td>Андрей Манзолевский</td>\n",
              "      <td>Manzal_</td>\n",
              "      <td>Russia</td>\n",
              "      <td>Блогер, публицист, гражданин, начальник</td>\n",
              "      <td>http://t.co/lsUS2Frfjj</td>\n",
              "      <td>23245</td>\n",
              "      <td>3298</td>\n",
              "      <td>2010-10-11</td>\n",
              "      <td>...</td>\n",
              "      <td></td>\n",
              "      <td></td>\n",
              "      <td>3</td>\n",
              "      <td>3</td>\n",
              "      <td>24</td>\n",
              "      <td>15</td>\n",
              "      <td>[]</td>\n",
              "      <td>[]</td>\n",
              "      <td></td>\n",
              "      <td></td>\n",
              "    </tr>\n",
              "    <tr>\n",
              "      <th>2</th>\n",
              "      <td>761963212304740352</td>\n",
              "      <td>201334945</td>\n",
              "      <td>Андрей Манзолевский</td>\n",
              "      <td>Manzal_</td>\n",
              "      <td>Russia</td>\n",
              "      <td>Блогер, публицист, гражданин, начальник</td>\n",
              "      <td>http://t.co/lsUS2Frfjj</td>\n",
              "      <td>23245</td>\n",
              "      <td>3298</td>\n",
              "      <td>2010-10-11</td>\n",
              "      <td>...</td>\n",
              "      <td></td>\n",
              "      <td></td>\n",
              "      <td>0</td>\n",
              "      <td>1</td>\n",
              "      <td>5</td>\n",
              "      <td>11</td>\n",
              "      <td>[]</td>\n",
              "      <td>[]</td>\n",
              "      <td></td>\n",
              "      <td></td>\n",
              "    </tr>\n",
              "    <tr>\n",
              "      <th>3</th>\n",
              "      <td>704951387982065665</td>\n",
              "      <td>201334945</td>\n",
              "      <td>Андрей Манзолевский</td>\n",
              "      <td>Manzal_</td>\n",
              "      <td>Russia</td>\n",
              "      <td>Блогер, публицист, гражданин, начальник</td>\n",
              "      <td>http://t.co/lsUS2Frfjj</td>\n",
              "      <td>23245</td>\n",
              "      <td>3298</td>\n",
              "      <td>2010-10-11</td>\n",
              "      <td>...</td>\n",
              "      <td></td>\n",
              "      <td></td>\n",
              "      <td>0</td>\n",
              "      <td>2</td>\n",
              "      <td>6</td>\n",
              "      <td>16</td>\n",
              "      <td>[]</td>\n",
              "      <td>[]</td>\n",
              "      <td></td>\n",
              "      <td></td>\n",
              "    </tr>\n",
              "    <tr>\n",
              "      <th>4</th>\n",
              "      <td>708289771030888449</td>\n",
              "      <td>201334945</td>\n",
              "      <td>Андрей Манзолевский</td>\n",
              "      <td>Manzal_</td>\n",
              "      <td>Russia</td>\n",
              "      <td>Блогер, публицист, гражданин, начальник</td>\n",
              "      <td>http://t.co/lsUS2Frfjj</td>\n",
              "      <td>23245</td>\n",
              "      <td>3298</td>\n",
              "      <td>2010-10-11</td>\n",
              "      <td>...</td>\n",
              "      <td></td>\n",
              "      <td></td>\n",
              "      <td>0</td>\n",
              "      <td>0</td>\n",
              "      <td>0</td>\n",
              "      <td>0</td>\n",
              "      <td>[]</td>\n",
              "      <td>[]</td>\n",
              "      <td>[106111547]</td>\n",
              "      <td></td>\n",
              "    </tr>\n",
              "  </tbody>\n",
              "</table>\n",
              "<p>5 rows × 31 columns</p>\n",
              "</div>"
            ],
            "text/plain": [
              "              tweetid     userid    user_display_name user_screen_name  \\\n",
              "0  721935043237584897  201334945  Андрей Манзолевский  Manzal_           \n",
              "1  759003437597990912  201334945  Андрей Манзолевский  Manzal_           \n",
              "2  761963212304740352  201334945  Андрей Манзолевский  Manzal_           \n",
              "3  704951387982065665  201334945  Андрей Манзолевский  Manzal_           \n",
              "4  708289771030888449  201334945  Андрей Манзолевский  Manzal_           \n",
              "\n",
              "  user_reported_location                 user_profile_description  \\\n",
              "0  Russia                 Блогер, публицист, гражданин, начальник   \n",
              "1  Russia                 Блогер, публицист, гражданин, начальник   \n",
              "2  Russia                 Блогер, публицист, гражданин, начальник   \n",
              "3  Russia                 Блогер, публицист, гражданин, начальник   \n",
              "4  Russia                 Блогер, публицист, гражданин, начальник   \n",
              "\n",
              "         user_profile_url  follower_count  following_count  \\\n",
              "0  http://t.co/lsUS2Frfjj  23245           3298              \n",
              "1  http://t.co/lsUS2Frfjj  23245           3298              \n",
              "2  http://t.co/lsUS2Frfjj  23245           3298              \n",
              "3  http://t.co/lsUS2Frfjj  23245           3298              \n",
              "4  http://t.co/lsUS2Frfjj  23245           3298              \n",
              "\n",
              "  account_creation_date     ...      latitude longitude quote_count  \\\n",
              "0  2010-10-11               ...                          0            \n",
              "1  2010-10-11               ...                          3            \n",
              "2  2010-10-11               ...                          0            \n",
              "3  2010-10-11               ...                          0            \n",
              "4  2010-10-11               ...                          0            \n",
              "\n",
              "  reply_count like_count  retweet_count hashtags urls  user_mentions  \\\n",
              "0  0           3          27             []       []                   \n",
              "1  3           24         15             []       []                   \n",
              "2  1           5          11             []       []                   \n",
              "3  2           6          16             []       []                   \n",
              "4  0           0          0              []       []   [106111547]     \n",
              "\n",
              "  poll_choices  \n",
              "0               \n",
              "1               \n",
              "2               \n",
              "3               \n",
              "4               \n",
              "\n",
              "[5 rows x 31 columns]"
            ]
          },
          "metadata": {
            "tags": []
          },
          "execution_count": 4
        }
      ]
    },
    {
      "metadata": {
        "id": "dQK1X6zUf2UY",
        "colab_type": "text"
      },
      "cell_type": "markdown",
      "source": [
        "## Question 1"
      ]
    },
    {
      "metadata": {
        "id": "zjvXmHvPgK59",
        "colab_type": "text"
      },
      "cell_type": "markdown",
      "source": [
        "Find the `id` of Tweets that contain both the phrase \"MakeAmericaGreatAgain\" **and** \"Trump\" (both **case-insensitive**) .  \n",
        "\n",
        "For example:\n",
        "\n",
        "* \"#VoteTrump and lets all help #Trump #makeamericagreatagain\" is a match\n",
        "* \"This was our moment. Together, we will make america great again!\" is not a match\n",
        "\n",
        "Your answer should be a single query containing the columns:\n",
        "- id (id of the tweets)\n",
        "- text (text of the tweets)\n",
        "\n",
        "Just like ``testquery``, you should return the output of ``job.results()`` in a list."
      ]
    },
    {
      "metadata": {
        "id": "BmyMP10ChEXF",
        "colab_type": "text"
      },
      "cell_type": "markdown",
      "source": [
        "###Write your SQL below"
      ]
    },
    {
      "metadata": {
        "colab_type": "code",
        "id": "XcK0eYPly0cH",
        "colab": {}
      },
      "cell_type": "code",
      "source": [
        "%%bigquery --project your_project_id"
      ],
      "execution_count": 0,
      "outputs": []
    },
    {
      "metadata": {
        "id": "LCUKn8wfgRWF",
        "colab_type": "text"
      },
      "cell_type": "markdown",
      "source": [
        "## Question 2\n",
        "\"**MakeAmericaGreatAgain**\" (often abbreviated as MAGA) is a campaign slogan used in American politics that was popularized by Donald Trump in his successful 2016 presidential campaign.\n",
        "\n",
        "Let's Find out Top 5 month gets the maximum mention of this slogan\n",
        "\"MakeAmericaGreatAgain\"(**case-insensitive**) in `tweet_text` .\n",
        "\n",
        "Your answer should be a single query containing the columns:\n",
        "- year\n",
        "- month\n",
        "- num (total number of slogan for the month)\n",
        "\n",
        "Just like ``testquery``, you should return the output of ``job.results()`` in a list."
      ]
    },
    {
      "metadata": {
        "id": "NRKNrrWAhbaQ",
        "colab_type": "text"
      },
      "cell_type": "markdown",
      "source": [
        "###Write your SQL below"
      ]
    },
    {
      "metadata": {
        "id": "7W0yhDNHy3yV",
        "colab_type": "code",
        "colab": {}
      },
      "cell_type": "code",
      "source": [
        "%%bigquery --project your_project_id\n"
      ],
      "execution_count": 0,
      "outputs": []
    },
    {
      "metadata": {
        "id": "MnJprqBAgYft",
        "colab_type": "text"
      },
      "cell_type": "markdown",
      "source": [
        "## Question 3   \n",
        "**Let's construct the Graph!**\n",
        "\n",
        "The original and retweet tweets can be looked at as a directed edge and hence we can look at it as a directed graph where each row is an edge between a tweeter and the user who retweet them. Create a table “Graph” with column names src and dst which stores the edge list of the graph. You must store only the distinct edges in the table.\n",
        "\n",
        "Your table should contain the following columns:\n",
        "- src (userid)\n",
        "- dst (retweet_userid)\n",
        "\n",
        "\n",
        "Also, one user might retweet another user more than one time. In this case, you should only save the edge once (i.e. only one row in the graph table).\n",
        "\n",
        "You must save this table since you will be using it for the next few questions.\n",
        "\n",
        "To save a table, there are two options:\n",
        "1. Use the API to save job results in a table, as in the example function ``savetable()`` in the starter code. The dataset_id refers to the name of the dataset which you created and the table_ref variable specifies the name of the table to which the results will be saved into. For further reference, you can check the following link: [Saving Results to Table](https://cloud.google.com/bigquery/docs/writing-results).\n",
        "2. Issue a regular query using ``CREATE OR REPLACE TABLE table_name_here AS SELECT ...``\n"
      ]
    },
    {
      "metadata": {
        "id": "LC5dYfRjhd4g",
        "colab_type": "text"
      },
      "cell_type": "markdown",
      "source": [
        "###Write your SQL below"
      ]
    },
    {
      "metadata": {
        "id": "iB6bgp2ly5uW",
        "colab_type": "code",
        "colab": {}
      },
      "cell_type": "code",
      "source": [
        "%%bigquery --project your_project_id\n"
      ],
      "execution_count": 0,
      "outputs": []
    },
    {
      "metadata": {
        "id": "UO4vnTjwgjYF",
        "colab_type": "text"
      },
      "cell_type": "markdown",
      "source": [
        "## Question 4\n",
        "The indegree of a node in a directed graph is defined as the number of edges which are incoming on the node. Similarly, the outdegree of a node in a directed graph is defined as the number of edges which are outgoing from the node. For more information, you can read - [Indegree and Outdegree](https://en.wikipedia.org/wiki/Directed_graph#Indegree_and_outdegree)\n",
        "\n",
        "Using this information, find out from the GRAPH table which user has the highest indegree and which user has the highest outdegree.\n",
        "\n",
        "Your answer should be a single query containing the columns:\n",
        "- max_indegree\n",
        "- max_outdegree"
      ]
    },
    {
      "metadata": {
        "id": "Ptl04NMVhe7E",
        "colab_type": "text"
      },
      "cell_type": "markdown",
      "source": [
        "###Write your SQL below"
      ]
    },
    {
      "metadata": {
        "colab_type": "code",
        "id": "VG9MuzmZy8pC",
        "colab": {}
      },
      "cell_type": "code",
      "source": [
        "%%bigquery --project your_project_id\n"
      ],
      "execution_count": 0,
      "outputs": []
    },
    {
      "metadata": {
        "id": "gPxldX_agvJs",
        "colab_type": "text"
      },
      "cell_type": "markdown",
      "source": [
        "## Question 5\n",
        "Let us define 4 categories of Twitter users. We will use the average number of likes a user gets on his/her tweets as the first metric and the number of times they are mentioned by other users in tweets (i.e. indegree) as the second metric. Then we can classify each user as follows:\n",
        "- High indegree, high average number of likes \n",
        "- High indegree, low average number of likes\n",
        "- Low indegree, high average number of likes\n",
        "- Low indegree, low average number of likes\n",
        "\n",
        "We will refer to the 'low indegree, low average likes' category of users as \"unpopular\" users and 'high indegree, high average likes' category of users as \"popular\" users. \n",
        "\n",
        "We define the indegree and average number of likes to be high or low based on the rules below:\n",
        "1) If indegree < avg(indegree) of all the nodes in the graph then indegree is said to be low for the user, else it is considered high.\n",
        "2) If the average number of likes for user < average number of likes for all the nodes in the graph, then the average number of likes is said to be low for the user; else it is considered high.\n",
        "\n",
        "Now, you need to find the conditional probability, that given an unpopular user, what is the probability that they retweet tweets from a popular user i.e. find P(retweet popular user | unpopular user).\n",
        "\n",
        "Your answer should be a query containing the column:\n",
        "- popular_unpopular (conditional probability P(retweet popular user | unpopular user)"
      ]
    },
    {
      "metadata": {
        "id": "CpY9GITBhfoG",
        "colab_type": "text"
      },
      "cell_type": "markdown",
      "source": [
        "###Write your SQL below"
      ]
    },
    {
      "metadata": {
        "id": "8tcevGN2gwbC",
        "colab_type": "code",
        "colab": {}
      },
      "cell_type": "code",
      "source": [
        "%%bigquery --project your_project_id\n"
      ],
      "execution_count": 0,
      "outputs": []
    },
    {
      "metadata": {
        "id": "NNd-izq5gygi",
        "colab_type": "text"
      },
      "cell_type": "markdown",
      "source": [
        "## Question 6\n",
        "Given a graph G = (V, E), a “triangle” is a set of three vertices that are mutually adjacent in G i.e. given 3 nodes of a graph A, B, C there exist edges A->B, B->C and C->A which form a triangle in the graph. From the graph table which you created above, find out the number of triangles in the graph.\n",
        "\n",
        "For the first part, your answer should be a single query containing the column:\n",
        "- no_of_triangles\n",
        "\n",
        "Just like ``testquery``, you should return the ouput of ``job.results()`` in a list."
      ]
    },
    {
      "metadata": {
        "id": "QVZFhO9ChgRC",
        "colab_type": "text"
      },
      "cell_type": "markdown",
      "source": [
        "###Write your SQL below"
      ]
    },
    {
      "metadata": {
        "id": "qZRz9YHNgzHB",
        "colab_type": "code",
        "colab": {}
      },
      "cell_type": "code",
      "source": [
        "%%bigquery --project your_project_id\n"
      ],
      "execution_count": 0,
      "outputs": []
    },
    {
      "metadata": {
        "id": "usPMzhLkg30v",
        "colab_type": "text"
      },
      "cell_type": "markdown",
      "source": [
        "## Question 7\n",
        "The PageRank algorithm is used to rank the importance of nodes in a graph. It works by counting the number of edges incident to a node to determine how important the node is. The underlying assumption is that more important nodes are likely to receive more links from other nodes. Find the top 100 nodes with the highest PageRank in the graph.\n",
        "Hint: It is not possible to use \"WITH RECURSIVE\" on BigQuery. You must develop a iterative implementation for PageRank (like the BFS example mentioned below).\n",
        "\n",
        "You must run the algorithm for 20 iterations and your output table should contain the following columns:\n",
        "- twitter_username (the twitter_username of the user)\n",
        "- page_rank_score\n",
        "\n",
        "Just like ``testquery``, you should return the output of ``job.results()`` in a list.\n",
        "\n",
        "You must implement only the simplified version of the PageRank algorithm. \n",
        "This algorithm works as follows - Assume a small universe of four web pages: A, B, C and D. PageRank is initialized to the same value for all pages since we assume a probability distribution between 0 and 1 as the PageRank for each node. Hence the initial value for each page in this example is 0.25. If the only links in the system were from pages B->A, C->A and D->A, each link would transfer 0.25 PageRank to A upon the next iteration, for a total of 0.75 i.e. PR(A) = PR(B) + PR(C) + PR(D). \n",
        "\n",
        "Now, suppose instead that we have the links B->C, B->A, C->A, D->A, D->B, D->C. Thus, upon the first iteration, page B would transfer half of its existing value, or 0.125, to page A and the other half, or 0.125, to page C. Page C would transfer all of its existing value, 0.25, to the only page it links to, A. Since D had three outbound links, it would transfer one third of its existing value, or approximately 0.083, to A. At the completion of this iteration, page A will have a PageRank of approximately 0.458.\n",
        "PR(A)=PR(B)/2 + PR(C)/1 + PR(D)/3.\n",
        "\n",
        "Thus, we can write the PageRank of A as:\n",
        "PR(A)= PR(B)/L(B) + PR(C)/L(C) + PR(D)/L(D) where L(x) gives us the number of outbound links for any node x. \n",
        "\n",
        "In general, the PageRank value for a page u is dependent on the PageRank values for each page v contained in the set containing all pages linking to page u, divided by the number of links from page v. \n",
        "It is given by the formula: ![](https://www.geeksforgeeks.org/wp-content/ql-cache/quicklatex.com-aafd3a0d9f8bb8325cf2b41a4a839bbf_l3.svg)\n",
        "\n",
        "To read more about PageRank, you can refer to the following link: [PageRank](http://home.ie.cuhk.edu.hk/~wkshum/papers/pagerank.pdf)\n",
        "\n",
        "\n",
        "For this question, you will need to develop an iterative solution, i.e. your python code will act as a driver and issue multiple queries to BigQuery iteratively. As an example, we provided an iterative implementation of Breadth First Search on the starter code.\n",
        "\n",
        "To execute 5 iterations using A as a start node, you can simply call ``bfs(client, 'A', 5)``.\n",
        "\n",
        "The example saves the nodes visited at each iteration in a table ``distances``, along with their distance to the initial node. The function itself does not return any value (however, remind that you will be required to return values for Q7)."
      ]
    },
    {
      "metadata": {
        "id": "menUD2Y5tZCF",
        "colab_type": "text"
      },
      "cell_type": "markdown",
      "source": [
        "### Do not edit this function. This is for helping you develop your own iterative PageRank algorithm."
      ]
    },
    {
      "metadata": {
        "id": "oRxXRmhGg5Sx",
        "colab_type": "code",
        "colab": {}
      },
      "cell_type": "code",
      "source": [
        "project_id = '[your project ID]'"
      ],
      "execution_count": 0,
      "outputs": []
    },
    {
      "metadata": {
        "id": "bUYgyzUCtohF",
        "colab_type": "code",
        "colab": {}
      },
      "cell_type": "code",
      "source": [
        "from google.cloud import bigquery\n",
        "client = bigquery.Client(project=project_id)\n",
        "\n",
        "def bfs(client, start, n_iter):\n",
        "\n",
        "    # You should replace dataset.bfs_graph with your dataset name and table name.\n",
        "    q1 = \"\"\"\n",
        "        CREATE TABLE IF NOT EXISTS dataset.bfs_graph (src string, dst string);\n",
        "        \"\"\"\n",
        "    q2 = \"\"\"\n",
        "        INSERT INTO dataset.bfs_graph(src, dst) VALUES\n",
        "        ('A', 'B'),\n",
        "        ('A', 'E'),\n",
        "        ('B', 'C'),\n",
        "        ('C', 'D'),\n",
        "        ('E', 'F'),\n",
        "        ('F', 'D'),\n",
        "        ('A', 'F'),\n",
        "        ('B', 'E'),\n",
        "        ('B', 'F'),\n",
        "        ('A', 'G'),\n",
        "        ('B', 'G'),\n",
        "        ('F', 'G'),\n",
        "        ('H', 'A'),\n",
        "        ('G', 'H'),\n",
        "        ('H', 'C'),\n",
        "        ('H', 'D'),\n",
        "        ('E', 'H'),\n",
        "        ('F', 'H');\n",
        "        \"\"\"\n",
        "\n",
        "    job = client.query(q1)\n",
        "    results = job.result()\n",
        "    job = client.query(q2)\n",
        "    results = job.result()\n",
        "\n",
        "    # You should replace dataset.distances with your dataset name and table name. \n",
        "    q3 = \"\"\"\n",
        "        CREATE OR REPLACE TABLE dataset.distances AS\n",
        "        SELECT '{start}' as node, 0 as distance\n",
        "        \"\"\".format(start=start)\n",
        "    job = client.query(q3)\n",
        "    # Result will be empty, but calling makes the code wait for the query to complete\n",
        "    job.result()\n",
        "\n",
        "    for i in range(n_iter):\n",
        "        print(\"Step %d...\" % (i+1))\n",
        "        q1 = \"\"\"\n",
        "        INSERT INTO dataset.distances(node, distance)\n",
        "        SELECT distinct dst, {next_distance}\n",
        "        FROM dataset.bfs_graph\n",
        "            WHERE src IN (\n",
        "                SELECT node\n",
        "                FROM dataset.distances\n",
        "                WHERE distance = {curr_distance}\n",
        "                )\n",
        "            AND dst NOT IN (\n",
        "                SELECT node\n",
        "                FROM dataset.distances\n",
        "                )\n",
        "            \"\"\".format(\n",
        "                curr_distance=i,\n",
        "                next_distance=i+1\n",
        "            )\n",
        "        job = client.query(q1)\n",
        "        results = job.result()"
      ],
      "execution_count": 0,
      "outputs": []
    },
    {
      "metadata": {
        "id": "mfXkc7tyt9mH",
        "colab_type": "code",
        "outputId": "c7285371-65bd-4866-91eb-2b0e2555f855",
        "colab": {
          "base_uri": "https://localhost:8080/",
          "height": 102
        }
      },
      "cell_type": "code",
      "source": [
        "bfs(client, 'A', 5)"
      ],
      "execution_count": 0,
      "outputs": [
        {
          "output_type": "stream",
          "text": [
            "Step 1...\n",
            "Step 2...\n",
            "Step 3...\n",
            "Step 4...\n",
            "Step 5...\n"
          ],
          "name": "stdout"
        }
      ]
    },
    {
      "metadata": {
        "id": "56tzjdLYhhDc",
        "colab_type": "text"
      },
      "cell_type": "markdown",
      "source": [
        "###Write your SQL below"
      ]
    },
    {
      "metadata": {
        "id": "0pejsLxDuvCH",
        "colab_type": "code",
        "colab": {}
      },
      "cell_type": "code",
      "source": [
        ""
      ],
      "execution_count": 0,
      "outputs": []
    },
    {
      "metadata": {
        "id": "ip4RgDTKg-xl",
        "colab_type": "text"
      },
      "cell_type": "markdown",
      "source": [
        "## Submission Instructions\n",
        "* Click **File** on the colab menu, chose **Download .ipynb**\n",
        "\n",
        "* Submit it via:\n",
        "https://www.instabase.com/apps/file-submission/cmd/submit/05dd2e62-11b6-4219-9e59-2ede5ebc642b\n"
      ]
    },
    {
      "metadata": {
        "id": "xGDKbXlrg_Go",
        "colab_type": "code",
        "colab": {}
      },
      "cell_type": "code",
      "source": [
        ""
      ],
      "execution_count": 0,
      "outputs": []
    }
  ]
}